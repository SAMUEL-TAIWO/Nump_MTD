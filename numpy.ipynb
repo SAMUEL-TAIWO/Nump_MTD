{
 "cells": [
  {
   "cell_type": "code",
   "execution_count": 2,
   "id": "44504e69",
   "metadata": {},
   "outputs": [],
   "source": [
    "import pandas as pd\n",
    "import numpy as np"
   ]
  },
  {
   "cell_type": "raw",
   "id": "4ae0bf9d",
   "metadata": {},
   "source": [
    "QUESTION:Write out 30 methods and examples in numpy"
   ]
  },
  {
   "cell_type": "code",
   "execution_count": 4,
   "id": "5f82298d",
   "metadata": {},
   "outputs": [
    {
     "data": {
      "text/plain": [
       "array([ 1,  2,  3,  4,  5,  6,  7,  8,  9, 10])"
      ]
     },
     "execution_count": 4,
     "metadata": {},
     "output_type": "execute_result"
    }
   ],
   "source": [
    "#1)using the array function\n",
    "array_1 = np.array([1,2,3,4,5,6,7,8,9,10])\n",
    "array_1"
   ]
  },
  {
   "cell_type": "code",
   "execution_count": 87,
   "id": "0128814a",
   "metadata": {},
   "outputs": [
    {
     "data": {
      "text/plain": [
       "array([5, 7, 9])"
      ]
     },
     "execution_count": 87,
     "metadata": {},
     "output_type": "execute_result"
    }
   ],
   "source": [
    "#2)adddition of arrays\n",
    "arr1 = np.array([1, 2, 3])\n",
    "arr2 = np.array([4, 5, 6])\n",
    "result = arr1 + arr2\n",
    "result\n"
   ]
  },
  {
   "cell_type": "code",
   "execution_count": 89,
   "id": "50dc2d3c",
   "metadata": {},
   "outputs": [
    {
     "data": {
      "text/plain": [
       "array([2, 3, 4])"
      ]
     },
     "execution_count": 89,
     "metadata": {},
     "output_type": "execute_result"
    }
   ],
   "source": [
    "#3)slicing an array\n",
    "arr = np.array([0, 1, 2, 3, 4, 5])\n",
    "sliced_arr = arr[2:5]\n",
    "sliced_arr "
   ]
  },
  {
   "cell_type": "code",
   "execution_count": 90,
   "id": "f0c52cd4",
   "metadata": {},
   "outputs": [
    {
     "data": {
      "text/plain": [
       "array([[1, 2, 3],\n",
       "       [4, 5, 6]])"
      ]
     },
     "execution_count": 90,
     "metadata": {},
     "output_type": "execute_result"
    }
   ],
   "source": [
    "#4)Reshaping an Array\n",
    "arr3 = np.array([1, 2, 3, 4, 5, 6])\n",
    "reshaped_arr = arr3.reshape(2, 3)\n",
    "reshaped_arr"
   ]
  },
  {
   "cell_type": "code",
   "execution_count": 91,
   "id": "eddbb972",
   "metadata": {},
   "outputs": [
    {
     "data": {
      "text/plain": [
       "1"
      ]
     },
     "execution_count": 91,
     "metadata": {},
     "output_type": "execute_result"
    }
   ],
   "source": [
    "#5)Finding the Minimum value of an array\n",
    "array_1 = np.array([1,2,3,4,5,6,7,8,9,10])\n",
    "min_val = np.min(array_1)\n",
    "min_val"
   ]
  },
  {
   "cell_type": "code",
   "execution_count": 92,
   "id": "62ed83e6",
   "metadata": {},
   "outputs": [
    {
     "name": "stdout",
     "output_type": "stream",
     "text": [
      "The array mean is : 5.5\n"
     ]
    }
   ],
   "source": [
    "#6)using the mean function to get the mean of the array\n",
    "array_1 = np.array([1,2,3,4,5,6,7,8,9,10])\n",
    "array_mean = np.mean(array_1)\n",
    "print(\"The array mean is :\",array_mean)"
   ]
  },
  {
   "cell_type": "code",
   "execution_count": 93,
   "id": "b15ccc3c",
   "metadata": {},
   "outputs": [
    {
     "data": {
      "text/plain": [
       "2.8722813232690143"
      ]
     },
     "execution_count": 93,
     "metadata": {},
     "output_type": "execute_result"
    }
   ],
   "source": [
    "#7)using the std function to get the standard deviation of the arrays \n",
    "array_1 = np.array([1,2,3,4,5,6,7,8,9,10])\n",
    "array_std = np.std(array_1)\n",
    "array_std"
   ]
  },
  {
   "cell_type": "code",
   "execution_count": 94,
   "id": "fedd09dc",
   "metadata": {},
   "outputs": [
    {
     "data": {
      "text/plain": [
       "array([3, 3, 3, 4, 5, 6, 6, 6, 6, 6])"
      ]
     },
     "execution_count": 94,
     "metadata": {},
     "output_type": "execute_result"
    }
   ],
   "source": [
    "#8)using the clipp function to clipp between the array values\n",
    "array_1 = np.array([1,2,3,4,5,6,7,8,9,10])\n",
    "clipped_array = np.clip(array_1,3,6)\n",
    "clipped_array"
   ]
  },
  {
   "cell_type": "code",
   "execution_count": 95,
   "id": "09ac6ecf",
   "metadata": {},
   "outputs": [
    {
     "data": {
      "text/plain": [
       "array([ 1,  2,  3,  4,  5,  6,  7,  8,  9, 11, 12, 15, 16])"
      ]
     },
     "execution_count": 95,
     "metadata": {},
     "output_type": "execute_result"
    }
   ],
   "source": [
    "#9)using the union1d function to get the union between sets of array\n",
    "array_1 = np.array([1,2,9,4,5,6,11,8,9,16])\n",
    "array_2 = np.array([1,2,3,11,5,12,7,9,9,15])\n",
    "array_union = np.union1d(array_1,array_2)\n",
    "array_union"
   ]
  },
  {
   "cell_type": "code",
   "execution_count": 96,
   "id": "bf3e663f",
   "metadata": {},
   "outputs": [
    {
     "data": {
      "text/plain": [
       "array([ 1,  2,  5,  9, 11])"
      ]
     },
     "execution_count": 96,
     "metadata": {},
     "output_type": "execute_result"
    }
   ],
   "source": [
    "#10)using the intersection1d function to get the union between sets of array\n",
    "array_1 = np.array([1,2,9,4,5,6,11,8,9,16])\n",
    "array_2 = np.array([1,2,3,11,5,12,7,9,9,15])\n",
    "array_intersection =np.intersect1d(array_1,array_2)\n",
    "array_intersection"
   ]
  },
  {
   "cell_type": "code",
   "execution_count": 98,
   "id": "9c6a32c0",
   "metadata": {},
   "outputs": [
    {
     "data": {
      "text/plain": [
       "10"
      ]
     },
     "execution_count": 98,
     "metadata": {},
     "output_type": "execute_result"
    }
   ],
   "source": [
    "#11)using the max() function to find the maximum value of an array\n",
    "array_1 = np.array([1,2,3,4,5,6,7,8,9,10])\n",
    "max_val = max(array_1)\n",
    "max_val"
   ]
  },
  {
   "cell_type": "code",
   "execution_count": 99,
   "id": "9de5da17",
   "metadata": {},
   "outputs": [
    {
     "data": {
      "text/plain": [
       "array([ 1,  2,  4,  5,  6,  8,  9,  9, 11, 16])"
      ]
     },
     "execution_count": 99,
     "metadata": {},
     "output_type": "execute_result"
    }
   ],
   "source": [
    "#12) using the sort function to sort the array\n",
    "array_1 = np.array([1,2,9,4,5,6,11,8,9,16])\n",
    "sort_array= np.sort(array_1)\n",
    "sort_array"
   ]
  },
  {
   "cell_type": "code",
   "execution_count": 100,
   "id": "d494f1be",
   "metadata": {},
   "outputs": [
    {
     "data": {
      "text/plain": [
       "array([[ 1],\n",
       "       [ 2],\n",
       "       [ 9],\n",
       "       [ 4],\n",
       "       [ 5],\n",
       "       [ 6],\n",
       "       [11],\n",
       "       [ 8],\n",
       "       [ 9],\n",
       "       [16]])"
      ]
     },
     "execution_count": 100,
     "metadata": {},
     "output_type": "execute_result"
    }
   ],
   "source": [
    "#13)using the vstack function to concatenate the array vertically\n",
    "array_1 = np.array([1,2,9,4,5,6,11,8,9,16])\n",
    "#Concatenate arrays vertically\n",
    "concatenate_array_vertically =np.vstack(array_1)\n",
    "concatenate_array_vertically"
   ]
  },
  {
   "cell_type": "code",
   "execution_count": 101,
   "id": "a41bf470",
   "metadata": {},
   "outputs": [
    {
     "name": "stdout",
     "output_type": "stream",
     "text": [
      "[[ 1  1]\n",
      " [ 2  2]\n",
      " [ 9  3]\n",
      " [ 4 11]\n",
      " [ 5  5]\n",
      " [ 6 12]\n",
      " [11  7]\n",
      " [ 8  9]\n",
      " [ 9  9]\n",
      " [16 15]]\n"
     ]
    }
   ],
   "source": [
    "#14)using the vstack function to concatenate the array horizontally\n",
    "array_1 = np.array([1, 2, 9, 4, 5, 6, 11, 8, 9, 16])\n",
    "array_2 = np.array([1, 2, 3, 11, 5, 12, 7, 9, 9, 15])\n",
    "\n",
    "# Convert 1-dimensional arrays to 2-dimensional arrays\n",
    "array_1_2d = array_1.reshape(-1, 1)\n",
    "array_2_2d = array_2.reshape(-1, 1)\n",
    "\n",
    "# Concatenate arrays horizontally\n",
    "concatenate_array_vertically = np.hstack((array_1_2d, array_2_2d))\n",
    "print(concatenate_array_vertically)\n"
   ]
  },
  {
   "cell_type": "code",
   "execution_count": 102,
   "id": "dbbf3509",
   "metadata": {},
   "outputs": [
    {
     "data": {
      "text/plain": [
       "array([ 0.86500368, -1.60201637,  0.96181359, -0.33803791, -0.61069869,\n",
       "        1.67876426])"
      ]
     },
     "execution_count": 102,
     "metadata": {},
     "output_type": "execute_result"
    }
   ],
   "source": [
    "#15)usind the random function to get the random numbers\n",
    "random_numbers = np.random.randn(6)\n",
    "random_numbers"
   ]
  },
  {
   "cell_type": "code",
   "execution_count": 103,
   "id": "49b5bc81",
   "metadata": {},
   "outputs": [
    {
     "data": {
      "text/plain": [
       "array([ 1,  2,  9,  4,  5,  6, 11,  8,  9, 16,  1,  2,  3, 11,  5, 12,  7,\n",
       "        9,  9, 15])"
      ]
     },
     "execution_count": 103,
     "metadata": {},
     "output_type": "execute_result"
    }
   ],
   "source": [
    "#15)Concatenating Arrays\n",
    "array_1 = np.array([1, 2, 9, 4, 5, 6, 11, 8, 9, 16])\n",
    "array_2 = np.array([1, 2, 3, 11, 5, 12, 7, 9, 9, 15])\n",
    "concatenated_arr = np.concatenate((array_1, array_2))\n",
    "concatenated_arr"
   ]
  },
  {
   "cell_type": "code",
   "execution_count": 104,
   "id": "b8b0de30",
   "metadata": {},
   "outputs": [
    {
     "data": {
      "text/plain": [
       "643"
      ]
     },
     "execution_count": 104,
     "metadata": {},
     "output_type": "execute_result"
    }
   ],
   "source": [
    "#16) Linear Algebra - Dot Product\n",
    "array_1 = np.array([1, 2, 9, 4, 5, 6, 11, 8, 9, 16])\n",
    "array_2 = np.array([1, 2, 3, 11, 5, 12, 7, 9, 9, 15])\n",
    "dot_product = np.dot(array_1, array_2)\n",
    "dot_product"
   ]
  },
  {
   "cell_type": "code",
   "execution_count": 105,
   "id": "047aeb4b",
   "metadata": {},
   "outputs": [
    {
     "data": {
      "text/plain": [
       "array([  1,   4,  81,  16,  25,  36, 121,  64,  81, 256], dtype=int32)"
      ]
     },
     "execution_count": 105,
     "metadata": {},
     "output_type": "execute_result"
    }
   ],
   "source": [
    "#17)Applying a Function Element-wise\n",
    "array_1 = np.array([1, 2, 9, 4, 5, 6, 11, 8, 9, 16])\n",
    "squared_arr = np.square(array_1)\n",
    "squared_arr"
   ]
  },
  {
   "cell_type": "code",
   "execution_count": 106,
   "id": "5a862949",
   "metadata": {},
   "outputs": [
    {
     "data": {
      "text/plain": [
       "array([False, False,  True, False, False, False,  True, False, False,\n",
       "        True])"
      ]
     },
     "execution_count": 106,
     "metadata": {},
     "output_type": "execute_result"
    }
   ],
   "source": [
    "#)18)Element-wise Comparison\n",
    "array_1 = np.array([1, 2, 9, 4, 5, 6, 11, 8, 9, 16])\n",
    "array_2 = np.array([1, 2, 3, 11, 5, 12, 7, 9, 9, 15])\n",
    "comparison_result = array_1 > array_2\n",
    "comparison_result"
   ]
  },
  {
   "cell_type": "code",
   "execution_count": 107,
   "id": "d5d0f49b",
   "metadata": {},
   "outputs": [
    {
     "data": {
      "text/plain": [
       "array([1, 3, 5, 7, 9])"
      ]
     },
     "execution_count": 107,
     "metadata": {},
     "output_type": "execute_result"
    }
   ],
   "source": [
    "#19)Creating a Range of Values\n",
    "range_arr = np.arange(1, 10, 2)\n",
    "range_arr "
   ]
  },
  {
   "cell_type": "code",
   "execution_count": 109,
   "id": "783b132a",
   "metadata": {},
   "outputs": [
    {
     "data": {
      "text/plain": [
       "array([[1, 3],\n",
       "       [2, 4]])"
      ]
     },
     "execution_count": 109,
     "metadata": {},
     "output_type": "execute_result"
    }
   ],
   "source": [
    "#20)Transposing a Matrix\n",
    "matrix = np.array([[1, 2], [3, 4]])\n",
    "transposed_matrix = matrix.T\n",
    "transposed_matrix"
   ]
  },
  {
   "cell_type": "code",
   "execution_count": 110,
   "id": "302e1907",
   "metadata": {},
   "outputs": [
    {
     "data": {
      "text/plain": [
       "array([[1., 0., 0.],\n",
       "       [0., 1., 0.],\n",
       "       [0., 0., 1.]])"
      ]
     },
     "execution_count": 110,
     "metadata": {},
     "output_type": "execute_result"
    }
   ],
   "source": [
    "#21) Creating an Identity Matrix\n",
    "identity_matrix = np.eye(3)\n",
    "identity_matrix "
   ]
  },
  {
   "cell_type": "code",
   "execution_count": 111,
   "id": "d61b0c84",
   "metadata": {},
   "outputs": [
    {
     "data": {
      "text/plain": [
       "array([2.71828183e+00, 7.38905610e+00, 8.10308393e+03, 5.45981500e+01,\n",
       "       1.48413159e+02, 4.03428793e+02, 5.98741417e+04, 2.98095799e+03,\n",
       "       8.10308393e+03, 8.88611052e+06])"
      ]
     },
     "execution_count": 111,
     "metadata": {},
     "output_type": "execute_result"
    }
   ],
   "source": [
    "#22)Element-wise Exponential\n",
    "array_1 = np.array([1, 2, 9, 4, 5, 6, 11, 8, 9, 16])\n",
    "exponential_arr = np.exp(array_1)\n",
    "exponential_arr"
   ]
  },
  {
   "cell_type": "code",
   "execution_count": 112,
   "id": "89ce702f",
   "metadata": {},
   "outputs": [
    {
     "data": {
      "text/plain": [
       "array([0.        , 0.69314718, 2.19722458, 1.38629436, 1.60943791,\n",
       "       1.79175947, 2.39789527, 2.07944154, 2.19722458, 2.77258872])"
      ]
     },
     "execution_count": 112,
     "metadata": {},
     "output_type": "execute_result"
    }
   ],
   "source": [
    "#23)Element-wise Logarithm\n",
    "array_1 = np.array([1, 2, 9, 4, 5, 6, 11, 8, 9, 16])\n",
    "log_arr = np.log(array_1)\n",
    "log_arr "
   ]
  },
  {
   "cell_type": "code",
   "execution_count": 113,
   "id": "f945ce42",
   "metadata": {},
   "outputs": [
    {
     "data": {
      "text/plain": [
       "array([1, 2, 3, 4, 5])"
      ]
     },
     "execution_count": 113,
     "metadata": {},
     "output_type": "execute_result"
    }
   ],
   "source": [
    "#24)Finding Unique Elements\n",
    "arr5 = np.array([1, 2, 3, 1, 2, 4, 5])\n",
    "unique_elements = np.unique(arr5)\n",
    "unique_elements "
   ]
  },
  {
   "cell_type": "code",
   "execution_count": 114,
   "id": "9c25b7a1",
   "metadata": {},
   "outputs": [
    {
     "data": {
      "text/plain": [
       "array([10, 10, 10, 10, 10, 10, 10, 10, 10, 10])"
      ]
     },
     "execution_count": 114,
     "metadata": {},
     "output_type": "execute_result"
    }
   ],
   "source": [
    "#25)Filling an Array with a Specific Value\n",
    "array_1 = np.array([1, 2, 9, 4, 5, 6, 11, 8, 9, 16])\n",
    "filled_arr = np.full_like(array_1, fill_value=10)\n",
    "filled_arr"
   ]
  },
  {
   "cell_type": "code",
   "execution_count": 115,
   "id": "ce517c26",
   "metadata": {},
   "outputs": [
    {
     "data": {
      "text/plain": [
       "array([ 1,  3, 12, 16, 21, 27, 38, 46, 55, 71], dtype=int32)"
      ]
     },
     "execution_count": 115,
     "metadata": {},
     "output_type": "execute_result"
    }
   ],
   "source": [
    "#26)Computing the Cumulative Sum\n",
    "array_1 = np.array([1, 2, 9, 4, 5, 6, 11, 8, 9, 16])\n",
    "cumulative_sum = np.cumsum(array_1)\n",
    "cumulative_sum "
   ]
  },
  {
   "cell_type": "code",
   "execution_count": 117,
   "id": "2add8b84",
   "metadata": {},
   "outputs": [
    {
     "data": {
      "text/plain": [
       "9"
      ]
     },
     "execution_count": 117,
     "metadata": {},
     "output_type": "execute_result"
    }
   ],
   "source": [
    "#27)Finding the Index of the Maximum Value\n",
    "array_1 = np.array([1, 2, 9, 4, 5, 6, 11, 8, 9, 16])\n",
    "max_index = np.argmax(array_1)\n",
    "max_index"
   ]
  },
  {
   "cell_type": "code",
   "execution_count": 118,
   "id": "b5c39b86",
   "metadata": {},
   "outputs": [
    {
     "data": {
      "text/plain": [
       "array([[1, 0, 0],\n",
       "       [0, 2, 0],\n",
       "       [0, 0, 3]])"
      ]
     },
     "execution_count": 118,
     "metadata": {},
     "output_type": "execute_result"
    }
   ],
   "source": [
    "#28)Generating a Diagonal Matrix\n",
    "diagonal_matrix = np.diag([1, 2, 3])\n",
    "diagonal_matrix"
   ]
  },
  {
   "cell_type": "code",
   "execution_count": 120,
   "id": "81142c28",
   "metadata": {},
   "outputs": [
    {
     "data": {
      "text/plain": [
       "array([16,  9,  8, 11,  6,  5,  4,  9,  2,  1])"
      ]
     },
     "execution_count": 120,
     "metadata": {},
     "output_type": "execute_result"
    }
   ],
   "source": [
    "#29)Reversing an Array\n",
    "array_1 = np.array([1, 2, 9, 4, 5, 6, 11, 8, 9, 16])\n",
    "reversed_arr = np.flip(array_1)\n",
    "reversed_arr "
   ]
  },
  {
   "cell_type": "code",
   "execution_count": 121,
   "id": "715b24ca",
   "metadata": {},
   "outputs": [
    {
     "data": {
      "text/plain": [
       "array([0, 0, 6, 7, 0, 6, 4, 1, 0, 1])"
      ]
     },
     "execution_count": 121,
     "metadata": {},
     "output_type": "execute_result"
    }
   ],
   "source": [
    "#30)Element-wise Absolute Value\n",
    "array_1 = np.array([1, 2, 9, 4, 5, 6, 11, 8, 9, 16])\n",
    "array_2 = np.array([1, 2, 3, 11, 5, 12, 7, 9, 9, 15])\n",
    "abs_arr = np.abs(array_1 - array_2)\n",
    "abs_arr"
   ]
  },
  {
   "cell_type": "raw",
   "id": "369edb9d",
   "metadata": {},
   "source": []
  },
  {
   "cell_type": "code",
   "execution_count": null,
   "id": "c050102f",
   "metadata": {},
   "outputs": [],
   "source": []
  }
 ],
 "metadata": {
  "kernelspec": {
   "display_name": "Python 3 (ipykernel)",
   "language": "python",
   "name": "python3"
  },
  "language_info": {
   "codemirror_mode": {
    "name": "ipython",
    "version": 3
   },
   "file_extension": ".py",
   "mimetype": "text/x-python",
   "name": "python",
   "nbconvert_exporter": "python",
   "pygments_lexer": "ipython3",
   "version": "3.9.12"
  }
 },
 "nbformat": 4,
 "nbformat_minor": 5
}
